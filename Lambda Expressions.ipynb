{
 "cells": [
  {
   "cell_type": "markdown",
   "id": "ade5214c",
   "metadata": {},
   "source": [
    "# Lambda Expressions\n",
    "\n",
    "### Objetivo:\n",
    "\n",
    "- As lambdas expressions são funções anonimas que tem 1 linha de código e são atribuidas a uma variavel, como se a variável virasse uma função\n",
    "\n",
    "- Elas normalmente são usadas para fazer uma única ação, mas em python usamos principalmente dentro de métodos como argumento, para não precisarmos criar uma função só para isso\n",
    "\n",
    "- outra aplicação delas está em criar um \"gerador de funções\" \n",
    "\n",
    "Obs. não é obrigatório usar lambda expression, até por que praticamento tudo o que vocÊ faz com elas você consegue fazer com functions normais. Mas é, importante saber entender quando encontrar e saber usar a medida que você for se acostumando e vendo a necessidade\n",
    "\n",
    "minha_funcao = lambda parametro: expressao"
   ]
  },
  {
   "cell_type": "code",
   "execution_count": 1,
   "id": "84ffa1c2",
   "metadata": {},
   "outputs": [
    {
     "name": "stdout",
     "output_type": "stream",
     "text": [
      "10\n"
     ]
    }
   ],
   "source": [
    "def minha_funcao(num):\n",
    "    return num * 2\n",
    "print(minha_funcao(5))"
   ]
  },
  {
   "cell_type": "code",
   "execution_count": 2,
   "id": "6be7ce97",
   "metadata": {},
   "outputs": [
    {
     "name": "stdout",
     "output_type": "stream",
     "text": [
      "20\n"
     ]
    }
   ],
   "source": [
    "minha_funcao2 = lambda num: num * 2\n",
    "print(minha_funcao2(10))"
   ]
  },
  {
   "cell_type": "markdown",
   "id": "5cf6c1e6",
   "metadata": {},
   "source": [
    "- Exemplo: vamos usar lambda expressions para criar uma função que calcula o preço dos produtos acrescido do imposto"
   ]
  },
  {
   "cell_type": "code",
   "execution_count": 3,
   "id": "1655e219",
   "metadata": {},
   "outputs": [
    {
     "name": "stdout",
     "output_type": "stream",
     "text": [
      "130.0\n"
     ]
    }
   ],
   "source": [
    "imposto = 0.3\n",
    "def preco_imposto(preco):\n",
    "    return preco *(1+ 0.3)\n",
    "\n",
    "preco_imposto2 = lambda preco: preco * (1.0 + 0.3)\n",
    "\n",
    "print(preco_imposto2(100))"
   ]
  },
  {
   "cell_type": "markdown",
   "id": "88e7bd3f",
   "metadata": {},
   "source": [
    "# Principal Aplicação de Lambda Expressions\n",
    "\n",
    "### Usar lambda como argumento de alguma outra função, como map e filter"
   ]
  },
  {
   "cell_type": "code",
   "execution_count": 4,
   "id": "a695e9bf",
   "metadata": {},
   "outputs": [],
   "source": [
    "preco_tecnologia = {'notebook asus': 2450, 'iphone': 4500, 'samsung galaxy': 3000, 'tv samsung': 1000, 'ps5': 3000, 'tablet': 5000}\n"
   ]
  },
  {
   "cell_type": "code",
   "execution_count": 6,
   "id": "ec4dcb6c",
   "metadata": {},
   "outputs": [
    {
     "name": "stdout",
     "output_type": "stream",
     "text": [
      "[3185.0, 5850.0, 3900.0, 1300.0, 3900.0, 6500.0]\n"
     ]
    }
   ],
   "source": [
    "#fazendo por function\n",
    "def calcular_preco(preco):\n",
    "    return preco * 1.3\n",
    "\n",
    "\n",
    "preco_com_imposto = list(map(calcular_preco, preco_tecnologia.values()))\n",
    "print(preco_com_imposto)"
   ]
  },
  {
   "cell_type": "code",
   "execution_count": 7,
   "id": "62740f19",
   "metadata": {},
   "outputs": [
    {
     "name": "stdout",
     "output_type": "stream",
     "text": [
      "[3185.0, 5850.0, 3900.0, 1300.0, 3900.0, 6500.0]\n"
     ]
    }
   ],
   "source": [
    "#fazendo por lambda\n",
    "\n",
    "preco_com_imposto2 = list(map(lambda preco: preco * 1.3, preco_tecnologia.values()))\n",
    "\n",
    "print(preco_com_imposto2)"
   ]
  },
  {
   "cell_type": "markdown",
   "id": "19f3799a",
   "metadata": {},
   "source": [
    "# Filter()\n"
   ]
  },
  {
   "cell_type": "markdown",
   "id": "3954afd7",
   "metadata": {},
   "source": [
    "- filter(funcao, iterable) -> retorna como resposta todos os itens do iterable onde a função é True"
   ]
  },
  {
   "cell_type": "code",
   "execution_count": 8,
   "id": "1faf4323",
   "metadata": {},
   "outputs": [
    {
     "name": "stdout",
     "output_type": "stream",
     "text": [
      "[('notebook asus', 2450), ('iphone', 4500), ('samsung galaxy', 3000), ('ps5', 3000), ('tablet', 5000)]\n"
     ]
    }
   ],
   "source": [
    "#fazendo por function\n",
    "\n",
    "def ehmaior2000(item):\n",
    "    return item[1] > 2000\n",
    "\n",
    "produtos_acima2000 = list(filter(ehmaior2000, preco_tecnologia.items()))\n",
    "print(produtos_acima2000)\n"
   ]
  },
  {
   "cell_type": "code",
   "execution_count": 9,
   "id": "4a88e861",
   "metadata": {},
   "outputs": [
    {
     "name": "stdout",
     "output_type": "stream",
     "text": [
      "{'notebook asus': 2450, 'iphone': 4500, 'samsung galaxy': 3000, 'ps5': 3000, 'tablet': 5000}\n"
     ]
    }
   ],
   "source": [
    "#fazendo por lambda\n",
    "\n",
    "produtos2_acim2000 = dict(list(filter(lambda item:item[1] > 2000 , preco_tecnologia.items())))\n",
    "print(produtos2_acim2000)"
   ]
  },
  {
   "cell_type": "markdown",
   "id": "cb15a4ba",
   "metadata": {},
   "source": [
    "# Lamba Expressions para gerar funções\n",
    "\n",
    "## Descrição :\n",
    "\n",
    "- Uma das aplicações de lambda expressions, é criar um gerador de funções, nesse caso, usaremos a lambda expressions dentro da definição de uma outra função\n",
    "\n",
    "### Exemplo\n",
    "\n",
    "1. Vamos criar uma função que me permita calular o valor acrescido do imposto de diferentes categorias (produto, serviço , royalties) "
   ]
  },
  {
   "cell_type": "code",
   "execution_count": 7,
   "id": "cb754370",
   "metadata": {},
   "outputs": [],
   "source": [
    "def calcular_imposto(imposto):\n",
    "    return lambda preco: preco * (1 + imposto) "
   ]
  },
  {
   "cell_type": "code",
   "execution_count": 8,
   "id": "d539f498",
   "metadata": {},
   "outputs": [],
   "source": [
    "calcular_preco_produto = calcular_imposto(0.1)\n",
    "calcular_preco_servico = calcular_imposto(0.15)\n",
    "calcular_preco_royalties = calcular_imposto(0.25)"
   ]
  },
  {
   "cell_type": "code",
   "execution_count": 10,
   "id": "3185377f",
   "metadata": {},
   "outputs": [
    {
     "name": "stdout",
     "output_type": "stream",
     "text": [
      "110.00000000000001\n",
      "114.99999999999999\n",
      "125.0\n"
     ]
    }
   ],
   "source": [
    "print(calcular_preco_produto(100))\n",
    "print(calcular_preco_servico(100))\n",
    "print(calcular_preco_royalties(100))"
   ]
  },
  {
   "cell_type": "code",
   "execution_count": null,
   "id": "65fd235a",
   "metadata": {},
   "outputs": [],
   "source": []
  },
  {
   "cell_type": "code",
   "execution_count": null,
   "id": "f0529acf",
   "metadata": {},
   "outputs": [],
   "source": []
  },
  {
   "cell_type": "code",
   "execution_count": null,
   "id": "6f47fc69",
   "metadata": {},
   "outputs": [],
   "source": []
  },
  {
   "cell_type": "code",
   "execution_count": null,
   "id": "93384936",
   "metadata": {},
   "outputs": [],
   "source": []
  },
  {
   "cell_type": "code",
   "execution_count": null,
   "id": "c340e708",
   "metadata": {},
   "outputs": [],
   "source": []
  }
 ],
 "metadata": {
  "kernelspec": {
   "display_name": "Python 3",
   "language": "python",
   "name": "python3"
  },
  "language_info": {
   "codemirror_mode": {
    "name": "ipython",
    "version": 3
   },
   "file_extension": ".py",
   "mimetype": "text/x-python",
   "name": "python",
   "nbconvert_exporter": "python",
   "pygments_lexer": "ipython3",
   "version": "3.8.8"
  }
 },
 "nbformat": 4,
 "nbformat_minor": 5
}
